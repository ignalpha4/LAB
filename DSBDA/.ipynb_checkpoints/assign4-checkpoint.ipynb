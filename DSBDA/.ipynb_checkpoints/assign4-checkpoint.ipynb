{
 "cells": [
  {
   "cell_type": "code",
   "execution_count": 1,
   "id": "07500cdd",
   "metadata": {},
   "outputs": [],
   "source": [
    "# algorithm (synthesis Dataset):\n",
    "# step 1 importing required libs\n",
    "import pandas as pd\n",
    "import numpy as np\n",
    "import matplotlib.pyplot as plt\n"
   ]
  },
  {
   "cell_type": "code",
   "execution_count": 2,
   "id": "94e5d84e",
   "metadata": {},
   "outputs": [],
   "source": [
    "#step 2 creating a dataframe with dependent variable(x) and independent var y\n",
    "\n",
    "x=np.array([95,85,80,70,60])\n",
    "y=np.array([85,95,70,65,70])"
   ]
  },
  {
   "cell_type": "code",
   "execution_count": 3,
   "id": "2920faa1",
   "metadata": {},
   "outputs": [],
   "source": [
    "#step 3 : Creating linear regression Model using Polyfit fun\n",
    "\n",
    "model=np.polyfit(x,y,1)"
   ]
  },
  {
   "cell_type": "code",
   "execution_count": 4,
   "id": "e7365da4",
   "metadata": {},
   "outputs": [
    {
     "data": {
      "text/plain": [
       "array([ 0.64383562, 26.78082192])"
      ]
     },
     "execution_count": 4,
     "metadata": {},
     "output_type": "execute_result"
    }
   ],
   "source": [
    "#step 4: observer the coefficients  of model\n",
    "\n",
    "model"
   ]
  },
  {
   "cell_type": "code",
   "execution_count": 6,
   "id": "eb95f299",
   "metadata": {},
   "outputs": [
    {
     "data": {
      "text/plain": [
       "68.63013698630135"
      ]
     },
     "execution_count": 6,
     "metadata": {},
     "output_type": "execute_result"
    }
   ],
   "source": [
    "#step5: predict the y value forx and observer o/p\n",
    "predict=np.poly1d(model)\n",
    "predict(65)"
   ]
  },
  {
   "cell_type": "code",
   "execution_count": 7,
   "id": "16f0ebfc",
   "metadata": {},
   "outputs": [
    {
     "data": {
      "text/plain": [
       "array([87.94520548, 81.50684932, 78.28767123, 71.84931507, 65.4109589 ])"
      ]
     },
     "execution_count": 7,
     "metadata": {},
     "output_type": "execute_result"
    }
   ],
   "source": [
    "#step6: precit the y_pred for all values of x\n",
    "y_pred=predict(x)\n",
    "y_pred"
   ]
  },
  {
   "cell_type": "code",
   "execution_count": null,
   "id": "3680cd1c",
   "metadata": {},
   "outputs": [],
   "source": []
  },
  {
   "cell_type": "code",
   "execution_count": null,
   "id": "312b6cd3",
   "metadata": {},
   "outputs": [],
   "source": [
    "#step7: evaluate the performance of model(R-suare)\n"
   ]
  }
 ],
 "metadata": {
  "kernelspec": {
   "display_name": "Python 3 (ipykernel)",
   "language": "python",
   "name": "python3"
  },
  "language_info": {
   "codemirror_mode": {
    "name": "ipython",
    "version": 3
   },
   "file_extension": ".py",
   "mimetype": "text/x-python",
   "name": "python",
   "nbconvert_exporter": "python",
   "pygments_lexer": "ipython3",
   "version": "3.9.13"
  }
 },
 "nbformat": 4,
 "nbformat_minor": 5
}
